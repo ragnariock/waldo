{
 "cells": [
  {
   "cell_type": "markdown",
   "metadata": {},
   "source": [
    "# Data Collection (Knives)\n",
    "\n",
    "---"
   ]
  },
  {
   "cell_type": "markdown",
   "metadata": {},
   "source": [
    "### Assumptions:\n",
    "1. [COCO API](https://github.com/cocodataset/cocoapi) is installed.\n",
    "2. [2014 Train images](http://cocodataset.org/#download) has been downloaded and extracted to desktop.\n",
    "3. [2014 Train/Val annotations](http://cocodataset.org/#download) has been downloaded and extracted to desktop."
   ]
  },
  {
   "cell_type": "code",
   "execution_count": 1,
   "metadata": {
    "collapsed": false
   },
   "outputs": [
    {
     "name": "stdout",
     "output_type": "stream",
     "text": [
      "cv2: ok\n",
      "matplotlib: ok\n",
      "numpy: ok\n",
      "pycocotools: ok\n",
      "scipy: ok\n"
     ]
    }
   ],
   "source": [
    "# Module check/download\n",
    "\n",
    "try:\n",
    "    from pip import main as pip_main\n",
    "except:\n",
    "    from pip._internal import main as pip_main\n",
    "\n",
    "def import_or_install(package):\n",
    "    \n",
    "    i = package[0]\n",
    "    \n",
    "    try:\n",
    "        __import__(package[0])\n",
    "        print(i+\": \"+\"ok\")\n",
    "        \n",
    "    except ImportError:\n",
    "        print(\"\\n\"+i+\": \"+\"installing...\")\n",
    "        pip_main(['install', package[1]])\n",
    "        print(i+\": \"+\"ok\")\n",
    "\n",
    "modules = [('cv2', 'opencv-python'), ('matplotlib','matplotlib'), \n",
    "           ('numpy', 'numpy'), ('pycocotools', 'pycocotools'),\n",
    "           ('scipy', 'scipy'),]\n",
    "\n",
    "for i in modules:\n",
    "    import_or_install(i)"
   ]
  },
  {
   "cell_type": "code",
   "execution_count": 2,
   "metadata": {
    "collapsed": true
   },
   "outputs": [],
   "source": [
    "# Relevant libraries\n",
    "\n",
    "%matplotlib inline\n",
    "from pycocotools.coco import COCO\n",
    "import numpy as np\n",
    "import matplotlib.pyplot as plt\n",
    "import pylab\n",
    "import json\n",
    "import cv2\n",
    "import os\n",
    "pylab.rcParams['figure.figsize'] = (8.0, 10.0)"
   ]
  },
  {
   "cell_type": "code",
   "execution_count": 3,
   "metadata": {
    "collapsed": false
   },
   "outputs": [
    {
     "name": "stdout",
     "output_type": "stream",
     "text": [
      "loading annotations into memory...\n",
      "Done (t=11.36s)\n",
      "creating index...\n",
      "index created!\n"
     ]
    }
   ],
   "source": [
    "# Initialize COCO API for instance annotations\n",
    "\n",
    "dataDir = os.path.expanduser(\"~/Desktop\")\n",
    "dataType='train2014'\n",
    "annFile='{}/annotations/instances_{}.json'.format(dataDir,dataType)\n",
    "\n",
    "coco=COCO(annFile)"
   ]
  },
  {
   "cell_type": "code",
   "execution_count": 4,
   "metadata": {
    "collapsed": false
   },
   "outputs": [
    {
     "name": "stdout",
     "output_type": "stream",
     "text": [
      "COCO categories: \n",
      "person bicycle car motorcycle airplane bus train truck boat traffic light fire hydrant stop sign parking meter bench bird cat dog horse sheep cow elephant bear zebra giraffe backpack umbrella handbag tie suitcase frisbee skis snowboard sports ball kite baseball bat baseball glove skateboard surfboard tennis racket bottle wine glass cup fork knife spoon bowl banana apple sandwich orange broccoli carrot hot dog pizza donut cake chair couch potted plant bed dining table toilet tv laptop mouse remote keyboard cell phone microwave oven toaster sink refrigerator book clock vase scissors teddy bear hair drier toothbrush\n",
      "\n",
      "COCO supercategories: \n",
      "accessory food indoor person animal sports outdoor appliance furniture vehicle electronic kitchen\n"
     ]
    }
   ],
   "source": [
    "# Display COCO categories and supercategories\n",
    "\n",
    "cats = coco.loadCats(coco.getCatIds())\n",
    "nms=[cat['name'] for cat in cats]\n",
    "print('COCO categories: \\n{}\\n'.format(' '.join(nms)))\n",
    "\n",
    "nms = set([cat['supercategory'] for cat in cats])\n",
    "print('COCO supercategories: \\n{}'.format(' '.join(nms)))"
   ]
  },
  {
   "cell_type": "code",
   "execution_count": 5,
   "metadata": {
    "collapsed": false
   },
   "outputs": [],
   "source": [
    "# Pick category\n",
    "\n",
    "catIds = coco.getCatIds(catNms=['knife']);\n",
    "imgIds = coco.getImgIds(catIds=catIds );"
   ]
  },
  {
   "cell_type": "code",
   "execution_count": 10,
   "metadata": {
    "collapsed": true
   },
   "outputs": [],
   "source": [
    "# Save image ids\n",
    "\n",
    "file = open(os.path.expanduser(\"~/Desktop/knifeIDs.txt\"),'w')\n",
    "\n",
    "for num in imgIds:\n",
    "    file.write(str(num)+'\\n')\n",
    "    \n",
    "file.close()"
   ]
  },
  {
   "cell_type": "code",
   "execution_count": 6,
   "metadata": {
    "collapsed": false
   },
   "outputs": [],
   "source": [
    "# Data prep for RetinaNet\n",
    "\n",
    "store = []\n",
    "f = open(os.path.expanduser(\"~/Desktop/knifeIDs.txt\"),'r')\n",
    "\n",
    "for rec in f:\n",
    "    \n",
    "    rec = rec.split()\n",
    "    N = len(rec[0])\n",
    "    \n",
    "    if N != 12: \n",
    "        m = 12 - N\n",
    "        rec = '0'*m + rec[0]\n",
    "        store.append(rec)\n",
    "        \n",
    "f.close()\n",
    "store_int = list(map(int,store))\n",
    "\n",
    "f =  open(annFile)\n",
    "d = json.load(f)\n",
    "f.close()\n",
    "\n",
    "annotations = d['annotations']\n",
    "d = {}\n",
    "\n",
    "for k in range(len(annotations)):\n",
    "    \n",
    "    img_id = annotations[k]['image_id']\n",
    "    cat_id = annotations[k]['category_id']\n",
    "        \n",
    "    if img_id in store_int and cat_id == 49:\n",
    "        \n",
    "        if img_id in d:\n",
    "            d[img_id].append(annotations[k]['bbox'])\n",
    "            \n",
    "        else:\n",
    "            d[img_id] = []\n",
    "            d[img_id].append(annotations[k]['bbox'])\n",
    "\n",
    "path = os.path.expanduser(str(\"~/Desktop/{}/COCO_{}_\").format(dataType, dataType))\n",
    "output = []\n",
    "\n",
    "for k in range(len(store_int)):\n",
    "    \n",
    "    terms = len(d[store_int[k]])\n",
    "    \n",
    "    if terms > 1:\n",
    "        \n",
    "        for i in range(terms):\n",
    "            \n",
    "            file = path + store[k] + '.jpg'\n",
    "            bbox = d[store_int[k]][i]\n",
    "            \n",
    "            xmin = int(bbox[0])\n",
    "            xmax = int(bbox[0] + bbox[2])\n",
    "            ymax = int(bbox[1] + bbox[3])\n",
    "            ymin = int(bbox[1])\n",
    "            \n",
    "            output.append([file, xmin, ymin, xmax, ymax, 'knife'])\n",
    "            \n",
    "    else:\n",
    "        file = path + store[k] + '.jpg'\n",
    "        bbox = d[store_int[k]][0]\n",
    "            \n",
    "        xmin = int(bbox[0])\n",
    "        xmax = int(bbox[0] + bbox[2])\n",
    "        ymax = int(bbox[1] + bbox[3])\n",
    "        ymin = int(bbox[1])\n",
    "            \n",
    "        output.append([file, xmin, ymin, xmax, ymax, 'knife'])\n",
    "\n",
    "#for rec in output:   \n",
    "#    print(str(rec)[1:-1])"
   ]
  },
  {
   "cell_type": "code",
   "execution_count": null,
   "metadata": {
    "collapsed": false
   },
   "outputs": [],
   "source": [
    "# Sanity check\n",
    "\n",
    "img = cv2.imread(output[1][0],1)\n",
    "cv2.rectangle(img,(output[1][1], output[1][2]), (output[1][3], output[1][4]), (0,255,0), 2)\n",
    "cv2.imshow('image',img)\n",
    "cv2.waitKey(0)"
   ]
  },
  {
   "cell_type": "code",
   "execution_count": 11,
   "metadata": {
    "collapsed": false
   },
   "outputs": [],
   "source": [
    "# Save in RetinaNet format\n",
    "\n",
    "file = open(os.path.expanduser(\"~/Desktop/knifeData.txt\"),'w')\n",
    "\n",
    "for rec in output:\n",
    "    file.write(\", \".join(str(x) for x in rec)+'\\n')\n",
    "    \n",
    "file.close()"
   ]
  }
 ],
 "metadata": {
  "anaconda-cloud": {},
  "kernelspec": {
   "display_name": "Python [default]",
   "language": "python",
   "name": "python3"
  },
  "language_info": {
   "codemirror_mode": {
    "name": "ipython",
    "version": 3
   },
   "file_extension": ".py",
   "mimetype": "text/x-python",
   "name": "python",
   "nbconvert_exporter": "python",
   "pygments_lexer": "ipython3",
   "version": "3.5.4"
  }
 },
 "nbformat": 4,
 "nbformat_minor": 2
}
