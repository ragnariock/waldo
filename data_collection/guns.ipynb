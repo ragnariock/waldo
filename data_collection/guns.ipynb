{
 "cells": [
  {
   "cell_type": "markdown",
   "metadata": {},
   "source": [
    "# Data Collection (Guns)\n",
    "\n",
    "---"
   ]
  },
  {
   "cell_type": "code",
   "execution_count": null,
   "metadata": {
    "collapsed": false
   },
   "outputs": [],
   "source": [
    "# Module check/download\n",
    "\n",
    "try:\n",
    "    from pip import main as pip_main\n",
    "except:\n",
    "    from pip._internal import main as pip_main\n",
    "\n",
    "def import_or_install(package):\n",
    "    \n",
    "    i = package[0]\n",
    "    \n",
    "    try:\n",
    "        __import__(package[0])\n",
    "        print(i+\": \"+\"ok\")\n",
    "        \n",
    "    except ImportError:\n",
    "        print(\"\\n\"+i+\": \"+\"installing...\")\n",
    "        pip_main(['install', package[1]])\n",
    "        print(i+\": \"+\"ok\")\n",
    "\n",
    "modules = [('glob','glob'), ('matplotlib','matplotlib'), \n",
    "           ('natsort','natsort'), ('cv2','opencv-python')]\n",
    "\n",
    "for i in modules:\n",
    "    import_or_install(i)"
   ]
  },
  {
   "cell_type": "code",
   "execution_count": null,
   "metadata": {
    "collapsed": true
   },
   "outputs": [],
   "source": [
    "# Relevant libraries\n",
    "\n",
    "import xml.etree.ElementTree as ET\n",
    "import matplotlib.pyplot as plt\n",
    "import zipfile\n",
    "import natsort\n",
    "import urllib\n",
    "import glob\n",
    "import cv2\n",
    "import os"
   ]
  },
  {
   "cell_type": "code",
   "execution_count": null,
   "metadata": {
    "collapsed": false
   },
   "outputs": [],
   "source": [
    "# Data retrieval (Desktop will be used as workspace)\n",
    "\n",
    "def get_data():\n",
    "    \n",
    "    path = \"https://sci2s.ugr.es/sites/default/files/files/TematicWebSites/WeaponsDetection/BasesDeDatos/\"\n",
    "    files = [\"WeaponS.zip\", \"WeaponS_bbox.zip\"]\n",
    "    labels = ['images', 'bounding boxes']\n",
    "    \n",
    "    for i in range(len(files)):\n",
    "        \n",
    "        url = path+files[i]\n",
    "        \n",
    "        print (\"\\ndownloading {}...\".format(labels[i]))    \n",
    "        filename, headers = urllib.request.urlretrieve(\n",
    "            url,filename=os.path.expanduser(str(\"~/Desktop/{}\").format(files[i])))    \n",
    "        print (\"download complete!\")\n",
    "        \n",
    "        os.chdir(os.path.expanduser(\"~/Desktop/\"))\n",
    "        print (\"\\nextracting {}...\".format(labels[i]))\n",
    "        zipf = zipfile.ZipFile(os.path.expanduser(str(\"~/Desktop/{}\").format(files[i])), \"r\")\n",
    "        zipf.extractall()\n",
    "        zipf.close()\n",
    "        print (\"extract complete!\")\n",
    "    \n",
    "get_data()"
   ]
  },
  {
   "cell_type": "code",
   "execution_count": null,
   "metadata": {
    "collapsed": true
   },
   "outputs": [],
   "source": [
    "# Data prep for RetinaNet\n",
    "\n",
    "files = glob.glob(os.path.expanduser(\"~/Desktop/WeaponS/*.jpg\"))\n",
    "files = natsort.natsorted(files)\n",
    "\n",
    "annotations = glob.glob(os.path.expanduser(\"~/Desktop/WeaponS_bbox/*.xml\"))\n",
    "annotations = natsort.natsorted(annotations)\n",
    "\n",
    "###\n",
    "#https://stackoverflow.com/questions/53317592/reading-pascal-voc-annotations-in-python\n",
    "def read_content(xml_file: str):\n",
    "\n",
    "    tree = ET.parse(xml_file)\n",
    "    root = tree.getroot()\n",
    "    list_with_all_boxes = []\n",
    "\n",
    "    for boxes in root.iter('object'):\n",
    "\n",
    "        filename = root.find('filename').text\n",
    "        ymin, xmin, ymax, xmax = None, None, None, None\n",
    "\n",
    "        for box in boxes.findall(\"bndbox\"):\n",
    "            ymin = int(box.find(\"ymin\").text)\n",
    "            xmin = int(box.find(\"xmin\").text)\n",
    "            ymax = int(box.find(\"ymax\").text)\n",
    "            xmax = int(box.find(\"xmax\").text)\n",
    "\n",
    "        list_with_single_boxes = [xmin, ymin, xmax, ymax]\n",
    "        list_with_all_boxes.append(list_with_single_boxes)\n",
    "\n",
    "    return filename, list_with_all_boxes\n",
    "###\n",
    "\n",
    "store = []\n",
    "\n",
    "for k in range(len(files)):\n",
    "    \n",
    "    name, boxes = read_content(annotations[k])\n",
    "        \n",
    "    if len(boxes) == 1:\n",
    "        \n",
    "        rec = [files[k]]\n",
    "        rec.extend(boxes[0])\n",
    "        rec.append('gun')\n",
    "        store.append(rec)\n",
    "            \n",
    "    else:\n",
    "        for c in range(len(boxes)):\n",
    "            \n",
    "            rec = [files[k]]\n",
    "            rec.extend(boxes[c])\n",
    "            rec.append('gun')\n",
    "            store.append(rec)\n",
    "\n",
    "#for rec in store:\n",
    "#    print(\", \".join(str(x) for x in rec))"
   ]
  },
  {
   "cell_type": "code",
   "execution_count": null,
   "metadata": {
    "collapsed": false
   },
   "outputs": [],
   "source": [
    "# Sanity check\n",
    "\n",
    "img = cv2.imread(store[0][0],1)\n",
    "cv2.rectangle(img,(store[0][1], store[0][2]), (store[0][3], store[0][4]),(0,255,0),3)\n",
    "cv2.imshow('image',img)\n",
    "cv2.waitKey(0)"
   ]
  },
  {
   "cell_type": "code",
   "execution_count": null,
   "metadata": {
    "collapsed": false
   },
   "outputs": [],
   "source": [
    "# Save in RetinaNet format\n",
    "\n",
    "file = open(os.path.expanduser(\"~/Desktop/pistolData.txt\"),'w')\n",
    "\n",
    "for rec in store:\n",
    "    file.write(\", \".join(str(x) for x in rec)+'\\n')\n",
    "    \n",
    "file.close()"
   ]
  }
 ],
 "metadata": {
  "anaconda-cloud": {},
  "kernelspec": {
   "display_name": "Python [default]",
   "language": "python",
   "name": "python3"
  },
  "language_info": {
   "codemirror_mode": {
    "name": "ipython",
    "version": 3
   },
   "file_extension": ".py",
   "mimetype": "text/x-python",
   "name": "python",
   "nbconvert_exporter": "python",
   "pygments_lexer": "ipython3",
   "version": "3.5.4"
  }
 },
 "nbformat": 4,
 "nbformat_minor": 2
}
