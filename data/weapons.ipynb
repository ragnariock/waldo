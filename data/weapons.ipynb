{
 "cells": [
  {
   "cell_type": "markdown",
   "metadata": {},
   "source": [
    "# Data Collection & Wrangling\n",
    "\n",
    "---"
   ]
  },
  {
   "cell_type": "code",
   "execution_count": null,
   "metadata": {
    "collapsed": false
   },
   "outputs": [],
   "source": [
    "# Module check/download\n",
    "\n",
    "try:\n",
    "    from pip import main as pip_main\n",
    "except:\n",
    "    from pip._internal import main as pip_main\n",
    "\n",
    "def import_or_install(package):\n",
    "    \n",
    "    i = package[0]\n",
    "    \n",
    "    try:\n",
    "        __import__(package[0])\n",
    "        print(i+\": \"+\"ok\")\n",
    "        \n",
    "    except ImportError:\n",
    "        print(\"\\n\"+i+\": \"+\"installing...\")\n",
    "        pip_main(['install', package[1]])\n",
    "        print(i+\": \"+\"ok\")\n",
    "\n",
    "modules = [('glob','glob'), ('matplotlib','matplotlib'), \n",
    "           ('natsort','natsort'), ('numpy','numpy'),\n",
    "           ('cv2','opencv-python')]\n",
    "\n",
    "for i in modules:\n",
    "    import_or_install(i)"
   ]
  },
  {
   "cell_type": "code",
   "execution_count": null,
   "metadata": {
    "collapsed": true
   },
   "outputs": [],
   "source": [
    "# Relevant libraries\n",
    "\n",
    "import xml.etree.ElementTree as ET\n",
    "import matplotlib.pyplot as plt\n",
    "import numpy as np\n",
    "import zipfile\n",
    "import natsort\n",
    "import urllib\n",
    "import glob\n",
    "import json\n",
    "import cv2\n",
    "import os"
   ]
  },
  {
   "cell_type": "code",
   "execution_count": null,
   "metadata": {
    "collapsed": false,
    "scrolled": true
   },
   "outputs": [],
   "source": [
    "# Data retrieval (Desktop will be used as workspace)\n",
    "\n",
    "def get_data():\n",
    "\n",
    "    path = \"https://github.com/luisra/waldo/raw/master/data_collection/sources/\"\n",
    "    files = [\"WeaponS.zip\", \"WeaponF.zip\", \"WeaponS_bbox.zip\", \"train2014.zip\", \"val2014.zip\", \"annotations_trainval2014.zip\"]\n",
    "    labels = ['gun images', 'more gun images', 'gun bounding boxes', 'knife images', 'more knife images', 'knife bounding boxes']\n",
    "    \n",
    "    for i in range(len(files)):\n",
    "        \n",
    "        url = path+files[i]\n",
    "        \n",
    "        print (\"\\ndownloading {}...\".format(labels[i]))    \n",
    "        filename, headers = urllib.request.urlretrieve(\n",
    "            url,filename=os.path.expanduser(str(\"~/Desktop/{}\").format(files[i])))    \n",
    "        print (\"download complete!\")\n",
    "        \n",
    "        os.chdir(os.path.expanduser(\"~/Desktop/\"))\n",
    "        print (\"\\nextracting {}...\".format(labels[i]))\n",
    "        zipf = zipfile.ZipFile(os.path.expanduser(str(\"~/Desktop/{}\").format(files[i])), \"r\")\n",
    "        zipf.extractall()\n",
    "        zipf.close()\n",
    "        print (\"extract complete!\")\n",
    "    \n",
    "get_data()"
   ]
  },
  {
   "cell_type": "markdown",
   "metadata": {},
   "source": [
    "## Guns"
   ]
  },
  {
   "cell_type": "code",
   "execution_count": null,
   "metadata": {
    "collapsed": true
   },
   "outputs": [],
   "source": [
    "# Data prep for RetinaNet\n",
    "\n",
    "files = glob.glob(os.path.expanduser(\"~/Desktop/WeaponS/*.jpg\"))\n",
    "files = natsort.natsorted(files)\n",
    "\n",
    "annotations = glob.glob(os.path.expanduser(\"~/Desktop/WeaponS_bbox/*.xml\"))\n",
    "annotations = natsort.natsorted(annotations)\n",
    "\n",
    "### https://stackoverflow.com/questions/53317592/reading-pascal-voc-annotations-in-python ###\n",
    "def read_content(xml_file: str):\n",
    "\n",
    "    tree = ET.parse(xml_file)\n",
    "    root = tree.getroot()\n",
    "    list_with_all_boxes = []\n",
    "\n",
    "    for boxes in root.iter('object'):\n",
    "\n",
    "        filename = root.find('filename').text\n",
    "        ymin, xmin, ymax, xmax = None, None, None, None\n",
    "\n",
    "        for box in boxes.findall(\"bndbox\"):\n",
    "            ymin = int(box.find(\"ymin\").text)\n",
    "            xmin = int(box.find(\"xmin\").text)\n",
    "            ymax = int(box.find(\"ymax\").text)\n",
    "            xmax = int(box.find(\"xmax\").text)\n",
    "\n",
    "        list_with_single_boxes = [xmin, ymin, xmax, ymax]\n",
    "        list_with_all_boxes.append(list_with_single_boxes)\n",
    "\n",
    "    return filename, list_with_all_boxes\n",
    "###\n",
    "\n",
    "store = []\n",
    "\n",
    "for k in range(len(files)):\n",
    "    \n",
    "    name, boxes = read_content(annotations[k])\n",
    "        \n",
    "    if len(boxes) == 1:\n",
    "        \n",
    "        rec = [files[k]]\n",
    "        rec.extend(boxes[0])\n",
    "        rec.append('gun')\n",
    "        store.append(rec)\n",
    "            \n",
    "    else:\n",
    "        for c in range(len(boxes)):\n",
    "            \n",
    "            rec = [files[k]]\n",
    "            rec.extend(boxes[c])\n",
    "            rec.append('gun')\n",
    "            store.append(rec)"
   ]
  },
  {
   "cell_type": "code",
   "execution_count": null,
   "metadata": {
    "collapsed": true
   },
   "outputs": [],
   "source": [
    "# Data augmentation\n",
    "\n",
    "### https://www.kdnuggets.com/2018/09/data-augmentation-bounding-boxes-image-transforms.html/2 ###\n",
    "def HorizontalFlip(img, bboxes):\n",
    "    \n",
    "        img_center = np.array(img.shape[:2])[::-1]/2\n",
    "        img_center = np.hstack((img_center, img_center))\n",
    "        \n",
    "        bboxes[[0,2]] += 2*(img_center[[0,2]].astype(np.int32) - bboxes[[0,2]].astype(np.int32))        \n",
    "        box_w = abs(bboxes[0] - bboxes[2])\n",
    "         \n",
    "        bboxes[0] -= box_w\n",
    "        bboxes[2] += box_w\n",
    "            \n",
    "        return bboxes\n",
    "###\n",
    "\n",
    "storef = []\n",
    "\n",
    "for k in range(len(store)):\n",
    "    \n",
    "    img = cv2.imread(store[k][0],1)\n",
    "    bboxes = np.array([store[k][1], store[k][2], store[k][3], store[k][4]])\n",
    "    \n",
    "    bboxes = HorizontalFlip(img, bboxes)\n",
    "    storef.append([store[k][0], bboxes[0], bboxes[1], bboxes[2], bboxes[3], 'gun'])\n",
    "    \n",
    "for rec in storef:\n",
    "    rec[0] = rec[0].replace('WeaponS', 'WeaponF')\n",
    "    \n",
    "store.extend(storef)"
   ]
  },
  {
   "cell_type": "code",
   "execution_count": null,
   "metadata": {
    "collapsed": false
   },
   "outputs": [],
   "source": [
    "# Sanity check\n",
    "\n",
    "img = cv2.imread(store[0][0],1)\n",
    "cv2.rectangle(img,(store[0][1], store[0][2]), (store[0][3], store[0][4]),(0,255,0),2)\n",
    "cv2.imshow('image',img)\n",
    "cv2.waitKey(0)"
   ]
  },
  {
   "cell_type": "code",
   "execution_count": null,
   "metadata": {
    "collapsed": true
   },
   "outputs": [],
   "source": [
    "# Save in RetinaNet format\n",
    "\n",
    "file = open(os.path.expanduser(\"~/Desktop/pistolData.txt\"),'w')\n",
    "\n",
    "for rec in store:\n",
    "    file.write(\", \".join(str(x) for x in rec)+'\\n')\n",
    "    \n",
    "file.close()"
   ]
  },
  {
   "cell_type": "markdown",
   "metadata": {},
   "source": [
    "## Knives"
   ]
  },
  {
   "cell_type": "code",
   "execution_count": null,
   "metadata": {
    "collapsed": false
   },
   "outputs": [],
   "source": [
    "# Data prep for RetinaNet\n",
    "\n",
    "dataDir = os.path.expanduser(\"~/Desktop\")\n",
    "dataTypes = ['train2014', 'val2014']\n",
    "output = []\n",
    "\n",
    "for dataType in dataTypes:\n",
    "    \n",
    "    store = []\n",
    "\n",
    "    for jpgfile in glob.iglob(os.path.join(os.path.expanduser(str(\"{}/{}\").format(dataDir,dataType)), \"*.jpg\")):\n",
    "        store.append(jpgfile[-16:-4])\n",
    "\n",
    "    store_int = list(map(int,store))\n",
    "    annFile='{}/annotations/instances_{}.json'.format(dataDir,dataType)\n",
    "\n",
    "    f =  open(annFile)\n",
    "    d = json.load(f)\n",
    "    f.close()\n",
    "\n",
    "    annotations = d['annotations']\n",
    "    d = {}\n",
    "\n",
    "    for k in range(len(annotations)):\n",
    "\n",
    "        img_id = annotations[k]['image_id']\n",
    "        cat_id = annotations[k]['category_id']\n",
    "\n",
    "        if img_id in store_int and cat_id == 49:\n",
    "\n",
    "            if img_id in d:\n",
    "                d[img_id].append(annotations[k]['bbox'])\n",
    "\n",
    "            else:\n",
    "                d[img_id] = []\n",
    "                d[img_id].append(annotations[k]['bbox'])\n",
    "\n",
    "    path = os.path.expanduser(str(\"{}/{}/COCO_{}_\").format(dataDir, dataType, dataType))\n",
    "\n",
    "    for k in range(len(store_int)):\n",
    "\n",
    "        terms = len(d[store_int[k]])\n",
    "\n",
    "        if terms > 1:\n",
    "\n",
    "            for i in range(terms):\n",
    "\n",
    "                file = path + store[k] + '.jpg'\n",
    "                bbox = d[store_int[k]][i]\n",
    "\n",
    "                xmin = int(bbox[0])\n",
    "                xmax = int(bbox[0] + bbox[2])\n",
    "                ymax = int(bbox[1] + bbox[3])\n",
    "                ymin = int(bbox[1])\n",
    "\n",
    "                output.append([file, xmin, ymin, xmax, ymax, 'knife'])\n",
    "\n",
    "        else:\n",
    "            file = path + store[k] + '.jpg'\n",
    "            bbox = d[store_int[k]][0]\n",
    "\n",
    "            xmin = int(bbox[0])\n",
    "            xmax = int(bbox[0] + bbox[2])\n",
    "            ymax = int(bbox[1] + bbox[3])\n",
    "            ymin = int(bbox[1])\n",
    "\n",
    "            output.append([file, xmin, ymin, xmax, ymax, 'knife'])"
   ]
  },
  {
   "cell_type": "code",
   "execution_count": null,
   "metadata": {
    "collapsed": false
   },
   "outputs": [],
   "source": [
    "# Sanity check\n",
    "\n",
    "img = cv2.imread(output[0][0],1)\n",
    "cv2.rectangle(img,(output[0][1], output[0][2]), (output[0][3], output[0][4]), (0,255,0), 2)\n",
    "cv2.imshow('image',img)\n",
    "cv2.waitKey(0)"
   ]
  },
  {
   "cell_type": "code",
   "execution_count": null,
   "metadata": {
    "collapsed": true
   },
   "outputs": [],
   "source": [
    "# Save in RetinaNet format\n",
    "\n",
    "file = open(os.path.expanduser(\"~/Desktop/knifeData.txt\"),'w')\n",
    "\n",
    "for rec in output:\n",
    "    file.write(\", \".join(str(x) for x in rec)+'\\n')\n",
    "    \n",
    "file.close()"
   ]
  }
 ],
 "metadata": {
  "anaconda-cloud": {},
  "kernelspec": {
   "display_name": "Python [default]",
   "language": "python",
   "name": "python3"
  },
  "language_info": {
   "codemirror_mode": {
    "name": "ipython",
    "version": 3
   },
   "file_extension": ".py",
   "mimetype": "text/x-python",
   "name": "python",
   "nbconvert_exporter": "python",
   "pygments_lexer": "ipython3",
   "version": "3.5.4"
  }
 },
 "nbformat": 4,
 "nbformat_minor": 2
}
